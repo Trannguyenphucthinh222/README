{
  "cells": [
    {
      "cell_type": "markdown",
      "metadata": {
        "id": "view-in-github",
        "colab_type": "text"
      },
      "source": [
        "<a href=\"https://colab.research.google.com/github/Trannguyenphucthinh222/README/blob/master/Cache_data.ipynb\" target=\"_parent\"><img src=\"https://colab.research.google.com/assets/colab-badge.svg\" alt=\"Open In Colab\"/></a>"
      ]
    },
    {
      "cell_type": "markdown",
      "metadata": {
        "id": "8fBrN0VP26jC"
      },
      "source": [
        "# **1. LIBRARIES**"
      ]
    },
    {
      "cell_type": "code",
      "execution_count": null,
      "metadata": {
        "id": "0tpRzETQ25fE"
      },
      "outputs": [],
      "source": [
        "%%capture\n",
        "!pip install --upgrade google-cloud-bigquery\n",
        "!pip install swifter\n",
        "\n",
        "import pandas as pd\n",
        "import numpy as np\n",
        "import swifter\n",
        "import requests\n",
        "import sqlite3\n",
        "import json\n",
        "import glob\n",
        "import time\n",
        "import plotly.graph_objects as go\n",
        "from plotly.subplots import make_subplots\n",
        "import datetime\n",
        "from itertools import product\n",
        "from datetime import datetime,timedelta\n",
        "from decimal import Decimal\n",
        "from google.cloud import bigquery\n",
        "from google.oauth2 import service_account\n",
        "from google.colab import auth\n",
        "auth.authenticate_user()"
      ]
    },
    {
      "cell_type": "code",
      "execution_count": null,
      "metadata": {
        "id": "D-Xl2afH2-Pr"
      },
      "outputs": [],
      "source": [
        "import gspread\n",
        "import google.auth\n",
        "credentials, project_id = google.auth.default()\n",
        "gc = gspread.authorize(credentials)"
      ]
    },
    {
      "cell_type": "markdown",
      "metadata": {
        "id": "N74SfjHLt6tZ"
      },
      "source": [
        "# **2. SETUP**"
      ]
    },
    {
      "cell_type": "code",
      "execution_count": null,
      "metadata": {
        "id": "79FY_Y6xdoH-"
      },
      "outputs": [],
      "source": [
        "from google.cloud import bigquery\n",
        "client = bigquery.Client(project='PROJECT_ID')"
      ]
    },
    {
      "cell_type": "code",
      "execution_count": null,
      "metadata": {
        "id": "UjAc--gp8oRr"
      },
      "outputs": [],
      "source": [
        "PROJECT_ID = 'internal-blockchain-indexed'"
      ]
    },
    {
      "cell_type": "markdown",
      "metadata": {
        "id": "B2uW7m6PVAqB"
      },
      "source": [
        "# **3. FUNC**"
      ]
    },
    {
      "cell_type": "code",
      "execution_count": null,
      "metadata": {
        "id": "DAztdBwyVBX3"
      },
      "outputs": [],
      "source": [
        "def assign_next_year(current_year):\n",
        "  # query for cache BALANCE (continous calculation)\n",
        "  balance_cache_query_v2 = f'''\n",
        "          CREATE OR REPLACE TABLE `analytics_data.eth_sip_balance` AS\n",
        "\n",
        "          with eth_price as (\n",
        "            select DATE(TIMESTAMP_SECONDS(block_timestamp)) as block_date,\n",
        "                  price\n",
        "            from `ethereum.eth_price`\n",
        "          ),\n",
        "\n",
        "          daily_supply as (\n",
        "            select DATE(block_date) as block_date,\n",
        "                  daily_supply\n",
        "            from `ethereum.daily_supply`\n",
        "          ),\n",
        "\n",
        "          xfer_raw as (\n",
        "            select DATE(TIMESTAMP_SECONDS(txn_ts)) as block_date,\n",
        "                  from_address as address,\n",
        "                  (-1)*(quantity/1e18) as quantity,\n",
        "            from `ethereum.all_transfers`\n",
        "            where TIMESTAMP_SECONDS(txn_ts) >= TIMESTAMP '{current_year}-01-01' and TIMESTAMP_SECONDS(txn_ts) < TIMESTAMP '{current_year+1}-01-01'\n",
        "            and from_address not in (select address from `ethereum.categories`) -- exclude cex,dex,contract addresses, mint (basic case)\n",
        "            and transfer_type in (1,2,3)\n",
        "            and contract_address = '0x0000000000000000000000000000000000000000'\n",
        "\n",
        "            union all\n",
        "\n",
        "            select DATE(TIMESTAMP_SECONDS(txn_ts)) as block_date,\n",
        "                  to_address as address,\n",
        "                  quantity/1e18 as quantity\n",
        "            from `ethereum.all_transfers`\n",
        "            where TIMESTAMP_SECONDS(txn_ts) >= TIMESTAMP '{current_year}-01-01' and TIMESTAMP_SECONDS(txn_ts) < TIMESTAMP '{current_year+1}-01-01'\n",
        "            and to_address not in (select address from `ethereum.categories`)   -- exclude cex,dex,contract addresses, burn\n",
        "            and transfer_type in (1,2,3)\n",
        "            and contract_address = '0x0000000000000000000000000000000000000000'\n",
        "          ),\n",
        "\n",
        "          transfer as (\n",
        "            select x.block_date,\n",
        "                  x.address,\n",
        "                  x.quantity,\n",
        "                  p.price\n",
        "            from xfer_raw x\n",
        "            left join eth_price p on p.block_date = x.block_date\n",
        "          ),\n",
        "\n",
        "          step1 as (  -- value (include selling movements)\n",
        "            select block_date,\n",
        "                  address,\n",
        "                  cumulative_balance as amount,\n",
        "                  cumulative_value as value\n",
        "            from `analytics_data.eth_sip_balance`\n",
        "\n",
        "            union all\n",
        "\n",
        "            select block_date,\n",
        "                  address,\n",
        "                  sum(quantity) as amount,\n",
        "                  sum(quantity*price) as value\n",
        "            from transfer\n",
        "            group by block_date,address\n",
        "            order by block_date\n",
        "          ),\n",
        "          step2 as (  -- cumulative\n",
        "            select block_date,\n",
        "                  address,\n",
        "                  sum(amount) OVER (PARTITION BY address ORDER BY block_date ASC ROWS BETWEEN UNBOUNDED PRECEDING AND CURRENT ROW) as cumulative_balance,\n",
        "                  sum(value) OVER (PARTITION BY address ORDER BY block_date ASC ROWS BETWEEN UNBOUNDED PRECEDING AND CURRENT ROW) as cumulative_value\n",
        "            from step1\n",
        "            order by block_date\n",
        "          ),\n",
        "\n",
        "          ranked_data as (\n",
        "            select block_date,\n",
        "                    address,\n",
        "                    cumulative_balance,\n",
        "                    cumulative_value,\n",
        "                    ROW_NUMBER() OVER (PARTITION BY address ORDER BY block_date DESC) AS RowNum\n",
        "            from step2\n",
        "          )\n",
        "\n",
        "          --> result\n",
        "          SELECT DATE('{current_year}-12-31') as block_date,  --latest date of balance data\n",
        "                address,\n",
        "                cumulative_balance,\n",
        "                cumulative_value\n",
        "          FROM ranked_data\n",
        "          WHERE RowNum = 1;\n",
        "      '''\n",
        "\n",
        "  # psip\n",
        "  data_cache_query_v2 = f'''\n",
        "          INSERT INTO `analytics_data.eth_sip_data`(\n",
        "\n",
        "          with eth_price as (\n",
        "            select DATE(TIMESTAMP_SECONDS(block_timestamp)) as block_date,\n",
        "                  price\n",
        "            from `ethereum.eth_price`\n",
        "          ),\n",
        "          daily_supply as (\n",
        "            select DATE(block_date) as block_date,\n",
        "                  daily_supply\n",
        "            from `ethereum.daily_supply`\n",
        "          ),\n",
        "          xfer_raw as (\n",
        "            select DATE(TIMESTAMP_SECONDS(txn_ts)) as block_date,\n",
        "                  from_address as address,\n",
        "                  (-1)*(quantity/1e18) as quantity,\n",
        "            from `ethereum.all_transfers`\n",
        "            where TIMESTAMP_SECONDS(txn_ts) >= '{current_year}-01-01' and TIMESTAMP_SECONDS(txn_ts) < TIMESTAMP '{current_year+1}-01-01'\n",
        "            and from_address not in (select address from `ethereum.categories`) -- exclude cex,dex,contract addresses, mint (basic case)\n",
        "            and transfer_type in (1,2,3)\n",
        "            and contract_address = '0x0000000000000000000000000000000000000000'\n",
        "\n",
        "            union all\n",
        "\n",
        "            select DATE(TIMESTAMP_SECONDS(txn_ts)) as block_date,\n",
        "                  to_address as address,\n",
        "                  quantity/1e18 as quantity\n",
        "            from `ethereum.all_transfers`\n",
        "            where TIMESTAMP_SECONDS(txn_ts) >= '{current_year}-01-01' and TIMESTAMP_SECONDS(txn_ts) < TIMESTAMP '{current_year+1}-01-01'\n",
        "            and to_address not in (select address from `ethereum.categories`)   -- exclude cex,dex,contract addresses, burn\n",
        "            and transfer_type in (1,2,3)\n",
        "            and contract_address = '0x0000000000000000000000000000000000000000'\n",
        "          ),\n",
        "          transfer as (\n",
        "            select x.block_date,\n",
        "                  x.address,\n",
        "                  x.quantity,\n",
        "                  p.price\n",
        "            from xfer_raw x\n",
        "            left join eth_price p on p.block_date = x.block_date\n",
        "          ),\n",
        "          step1 as (    -- value (include selling movements)\n",
        "            select block_date,\n",
        "                  address,\n",
        "                  sum(amount) as amount,\n",
        "                  sum(value) as value\n",
        "            from (select DATE('{current_year}-01-01') as block_date,  -- insert value of the previous calculation\n",
        "                            address,\n",
        "                            cumulative_balance as amount,\n",
        "                            cumulative_value as value\n",
        "                      from `analytics_data.eth_sip_balance`\n",
        "\n",
        "                      union all\n",
        "\n",
        "                      select block_date,\n",
        "                            address,\n",
        "                            sum(quantity) as amount,\n",
        "                            sum(quantity*price) as value\n",
        "                      from transfer\n",
        "                      group by block_date, address\n",
        "                      order by block_date\n",
        "                  )\n",
        "            group by block_date, address\n",
        "            order by block_date\n",
        "          ),\n",
        "          step2 as (  -- cumulative\n",
        "            select block_date,\n",
        "                  address,\n",
        "                  sum(amount) OVER (PARTITION BY address ORDER BY block_date ASC ROWS BETWEEN UNBOUNDED PRECEDING AND CURRENT ROW) as cumulative_balance,\n",
        "                  sum(value) OVER (PARTITION BY address ORDER BY block_date ASC ROWS BETWEEN UNBOUNDED PRECEDING AND CURRENT ROW) as cumulative_value\n",
        "            from step1\n",
        "            order by block_date\n",
        "          ),\n",
        "\n",
        "          step3 as (\n",
        "            select block_date,\n",
        "                  address,\n",
        "                  cumulative_balance,\n",
        "                  case\n",
        "                    when cumulative_balance > 0 then cumulative_value/cumulative_balance\n",
        "                    else 0\n",
        "                  end as avg_acq_price\n",
        "            from step2\n",
        "          ),\n",
        "\n",
        "          missed_date as(\n",
        "          select address,dates as block_date from\n",
        "          UNNEST(GENERATE_DATE_ARRAY('{current_year}-01-01','{current_year}-12-31', INTERVAL 1 DAY)) AS dates cross join (select distinct address from step3)\n",
        "          ),\n",
        "\n",
        "          joined as (\n",
        "          select distinct m.address, m.block_date, cumulative_balance, avg_acq_price\n",
        "          from  missed_date m\n",
        "          left join step3 s on m.address = s.address\n",
        "          and  s.block_date = m.block_date\n",
        "          ),\n",
        "\n",
        "          filled_data as\n",
        "          (\n",
        "            select * except(cumulative_balance, avg_acq_price),\n",
        "              ifnull(last_value(cumulative_balance ignore nulls) over(partition by address order by block_date),0) as cumulative_balance,\n",
        "              ifnull(last_value(avg_acq_price ignore nulls) over(partition by address order by block_date),0) as avg_acq_price\n",
        "            from joined\n",
        "          ),\n",
        "\n",
        "          final_data as (\n",
        "            select f.block_date,\n",
        "                  f.address,\n",
        "                  f.cumulative_balance,\n",
        "                  f.avg_acq_price,\n",
        "                  p.price as current_price\n",
        "            from filled_data f\n",
        "            left join eth_price p on p.block_date = f.block_date\n",
        "            order by f.block_date\n",
        "          ),\n",
        "\n",
        "          master_final as (\n",
        "            select block_date,\n",
        "                  sum(cumulative_balance) as coin_in_profit\n",
        "            from final_data\n",
        "            where avg_acq_price < current_price\n",
        "            and cumulative_balance > 0\n",
        "            group by block_date\n",
        "          )\n",
        "\n",
        "          --> result\n",
        "          select f.block_date,\n",
        "                coin_in_profit*100/d.daily_supply as psip,\n",
        "                p.price\n",
        "          from master_final f\n",
        "          left join daily_supply d on d.block_date = f.block_date\n",
        "          left join eth_price p on p.block_date = f.block_date\n",
        "          order by block_date asc\n",
        "          );\n",
        "      '''\n",
        "\n",
        "  return balance_cache_query_v2, data_cache_query_v2"
      ]
    },
    {
      "cell_type": "markdown",
      "metadata": {
        "id": "gnAIVmrTRkrc"
      },
      "source": [
        "# **4. QUERIES**"
      ]
    },
    {
      "cell_type": "markdown",
      "metadata": {
        "id": "_1qBNqOfuEcy"
      },
      "source": [
        "## Initial"
      ]
    },
    {
      "cell_type": "code",
      "execution_count": null,
      "metadata": {
        "id": "Bb4RJ9RyMqD3"
      },
      "outputs": [],
      "source": [
        "current_year = 2015"
      ]
    },
    {
      "cell_type": "code",
      "execution_count": null,
      "metadata": {
        "id": "FbWnC5d6dtxB"
      },
      "outputs": [],
      "source": [
        "# query for cache BALANCE (continous calculation)\n",
        "balance_cache_query_init = f'''\n",
        "        create table `analytics_data.eth_sip_balance` as\n",
        "        with eth_price as (\n",
        "          select DATE(TIMESTAMP_SECONDS(block_timestamp)) as block_date,\n",
        "                price\n",
        "          from `ethereum.eth_price`\n",
        "        ),\n",
        "\n",
        "        daily_supply as (\n",
        "          select DATE(block_date) as block_date,\n",
        "                daily_supply\n",
        "          from `ethereum.daily_supply`\n",
        "        ),\n",
        "\n",
        "        xfer_raw as (\n",
        "          select DATE(TIMESTAMP_SECONDS(txn_ts)) as block_date,\n",
        "                from_address as address,\n",
        "                (-1)*(quantity/1e18) as quantity,\n",
        "          from `ethereum.all_transfers`\n",
        "          where TIMESTAMP_SECONDS(txn_ts) < TIMESTAMP '{current_year + 1}-01-01'\n",
        "          and from_address not in (select address from `ethereum.categories`) -- exclude cex,dex,contract addresses, mint (basic case)\n",
        "          and transfer_type in (1,2,3)\n",
        "          and contract_address = '0x0000000000000000000000000000000000000000'\n",
        "\n",
        "          union all\n",
        "\n",
        "          select DATE(TIMESTAMP_SECONDS(txn_ts)) as block_date,\n",
        "                to_address as address,\n",
        "                quantity/1e18 as quantity\n",
        "          from `ethereum.all_transfers`\n",
        "          where TIMESTAMP_SECONDS(txn_ts) < TIMESTAMP '{current_year + 1}-01-01'\n",
        "          and to_address not in (select address from `ethereum.categories`)   -- exclude cex,dex,contract addresses, burn\n",
        "          and transfer_type in (1,2,3)\n",
        "          and contract_address = '0x0000000000000000000000000000000000000000'\n",
        "        ),\n",
        "\n",
        "        transfer as (\n",
        "          select x.block_date,\n",
        "                x.address,\n",
        "                x.quantity,\n",
        "                p.price\n",
        "          from xfer_raw x\n",
        "          left join eth_price p on p.block_date = x.block_date\n",
        "        ),\n",
        "        step1 as (  -- value (include selling movements)\n",
        "          select block_date,\n",
        "                address,\n",
        "                sum(quantity) as amount,\n",
        "                sum(quantity*price) as value\n",
        "          from transfer\n",
        "          group by block_date,address\n",
        "          order by block_date\n",
        "        ),\n",
        "        step2 as (  -- cumulative\n",
        "          select block_date,\n",
        "                address,\n",
        "                sum(amount) OVER (PARTITION BY address ORDER BY block_date ASC ROWS BETWEEN UNBOUNDED PRECEDING AND CURRENT ROW) as cumulative_balance,\n",
        "                sum(value) OVER (PARTITION BY address ORDER BY block_date ASC ROWS BETWEEN UNBOUNDED PRECEDING AND CURRENT ROW) as cumulative_value\n",
        "          from step1\n",
        "          order by block_date\n",
        "        ),\n",
        "        ranked_data as (\n",
        "          select block_date,\n",
        "                  address,\n",
        "                  cumulative_balance,\n",
        "                  cumulative_value,\n",
        "                  ROW_NUMBER() OVER (PARTITION BY address ORDER BY block_date DESC) AS RowNum\n",
        "          from step2\n",
        "        )\n",
        "        --> result\n",
        "        select DATE('{current_year}-12-31') as block_date,\n",
        "              address,\n",
        "              cumulative_balance,\n",
        "              cumulative_value\n",
        "        from ranked_data\n",
        "        where RowNum = 1;\n",
        "    '''\n",
        "\n",
        "# query for cache DATA (PSIP)\n",
        "data_cache_query_init = f'''\n",
        "        create table `analytics_data.eth_sip_data` as\n",
        "\n",
        "        with eth_price as (\n",
        "          select DATE(TIMESTAMP_SECONDS(block_timestamp)) as block_date,\n",
        "                price\n",
        "          from `ethereum.eth_price`\n",
        "        ),\n",
        "        daily_supply as (\n",
        "          select DATE(block_date) as block_date,\n",
        "                daily_supply\n",
        "          from `ethereum.daily_supply`\n",
        "        ),\n",
        "        xfer_raw as (\n",
        "          select DATE(TIMESTAMP_SECONDS(txn_ts)) as block_date,\n",
        "                from_address as address,\n",
        "                (-1)*(quantity/1e18) as quantity,\n",
        "          from `ethereum.all_transfers`\n",
        "          where TIMESTAMP_SECONDS(txn_ts) < TIMESTAMP '{current_year + 1}-01-01'\n",
        "          and from_address not in (select address from `ethereum.categories`) -- exclude cex,dex,contract addresses, mint (basic case)\n",
        "          and transfer_type in (1,2,3)\n",
        "          and contract_address = '0x0000000000000000000000000000000000000000'\n",
        "\n",
        "          union all\n",
        "\n",
        "          select DATE(TIMESTAMP_SECONDS(txn_ts)) as block_date,\n",
        "                to_address as address,\n",
        "                quantity/1e18 as quantity\n",
        "          from `ethereum.all_transfers`\n",
        "          where TIMESTAMP_SECONDS(txn_ts) < TIMESTAMP '{current_year + 1}-01-01'\n",
        "          and to_address not in (select address from `ethereum.categories`)   -- exclude cex,dex,contract addresses, burn\n",
        "          and transfer_type in (1,2,3)\n",
        "          and contract_address = '0x0000000000000000000000000000000000000000'\n",
        "        ),\n",
        "        transfer as (\n",
        "          select x.block_date,\n",
        "                x.address,\n",
        "                x.quantity,\n",
        "                p.price\n",
        "          from xfer_raw x\n",
        "          left join eth_price p on p.block_date = x.block_date\n",
        "        ),\n",
        "        step1 as (  -- value (include selling movements)\n",
        "          select block_date,\n",
        "                address,\n",
        "                sum(quantity) as amount,\n",
        "                sum(quantity*price) as value\n",
        "          from transfer\n",
        "          group by block_date,address\n",
        "          order by block_date\n",
        "        ),\n",
        "        step2 as (  -- cumulative\n",
        "          select block_date,\n",
        "                address,\n",
        "                sum(amount) OVER (PARTITION BY address ORDER BY block_date ASC ROWS BETWEEN UNBOUNDED PRECEDING AND CURRENT ROW) as cumulative_balance,\n",
        "                sum(value) OVER (PARTITION BY address ORDER BY block_date ASC ROWS BETWEEN UNBOUNDED PRECEDING AND CURRENT ROW) as cumulative_value\n",
        "          from step1\n",
        "          order by block_date\n",
        "        ),\n",
        "        step3 as (\n",
        "          select block_date,\n",
        "                address,\n",
        "                cumulative_balance,\n",
        "                case\n",
        "                  when cumulative_balance > 0 then cumulative_value/cumulative_balance\n",
        "                  else 0\n",
        "                end as avg_acq_price\n",
        "          from step2\n",
        "        ),\n",
        "        missed_date as(\n",
        "        select address,dates as block_date from\n",
        "        UNNEST(GENERATE_DATE_ARRAY('{current_year}-08-07','{current_year}-12-31', INTERVAL 1 DAY)) AS dates cross join (select distinct address from step3)\n",
        "        ),\n",
        "\n",
        "        joined as (\n",
        "        select distinct m.address, m.block_date, cumulative_balance, avg_acq_price\n",
        "        from  missed_date m\n",
        "        left join step3 s on m.address = s.address\n",
        "        and  s.block_date = m.block_date\n",
        "        ),\n",
        "\n",
        "        filled_data as\n",
        "        (select * except(cumulative_balance, avg_acq_price),\n",
        "          ifnull(last_value(cumulative_balance ignore nulls) over(partition by address order by block_date),0) as cumulative_balance,\n",
        "          ifnull(last_value(avg_acq_price ignore nulls) over(partition by address order by block_date),0) as avg_acq_price\n",
        "        from joined\n",
        "        ),\n",
        "\n",
        "        final_data as (\n",
        "          select f.block_date,\n",
        "                f.address,\n",
        "                f.cumulative_balance,\n",
        "                f.avg_acq_price,\n",
        "                p.price as current_price\n",
        "          from filled_data f\n",
        "          left join eth_price p on p.block_date = f.block_date\n",
        "          order by f.block_date\n",
        "        ),\n",
        "\n",
        "        master_final as (\n",
        "          select block_date,\n",
        "                sum(cumulative_balance) as coin_in_profit\n",
        "          from final_data\n",
        "          where avg_acq_price < current_price\n",
        "          and cumulative_balance > 0\n",
        "          group by block_date\n",
        "        )\n",
        "\n",
        "        --> result\n",
        "        select f.block_date,\n",
        "              coin_in_profit*100/d.daily_supply as psip,\n",
        "              p.price\n",
        "        from master_final f\n",
        "        left join daily_supply d on d.block_date = f.block_date\n",
        "        left join eth_price p on p.block_date = f.block_date\n",
        "        order by block_date asc\n",
        "    '''"
      ]
    },
    {
      "cell_type": "markdown",
      "metadata": {
        "id": "mQpVL_a6PNRF"
      },
      "source": [
        "## Upcoming"
      ]
    },
    {
      "cell_type": "code",
      "execution_count": null,
      "metadata": {
        "id": "6cPkD8ydNRDS"
      },
      "outputs": [],
      "source": [
        "# # query for cache BALANCE (continous calculation)\n",
        "# balance_cache_query_v2 = f'''\n",
        "#         CREATE OR REPLACE TABLE `analytics_data.eth_sip_balance` AS\n",
        "\n",
        "#         with eth_price as (\n",
        "#           select DATE(TIMESTAMP_SECONDS(block_timestamp)) as block_date,\n",
        "#                 price\n",
        "#           from `ethereum.eth_price`\n",
        "#         ),\n",
        "\n",
        "#         daily_supply as (\n",
        "#           select DATE(block_date) as block_date,\n",
        "#                 daily_supply\n",
        "#           from `ethereum.daily_supply`\n",
        "#         ),\n",
        "\n",
        "#         xfer_raw as (\n",
        "#           select DATE(TIMESTAMP_SECONDS(txn_ts)) as block_date,\n",
        "#                 from_address as address,\n",
        "#                 (-1)*(quantity/1e18) as quantity,\n",
        "#           from `ethereum.all_transfers`\n",
        "#           where TIMESTAMP_SECONDS(txn_ts) >= TIMESTAMP '{current_year+1}-01-01' and TIMESTAMP_SECONDS(txn_ts) < TIMESTAMP '{current_year+2}-01-01'\n",
        "#           and from_address not in (select address from `ethereum.categories`) -- exclude cex,dex,contract addresses, mint (basic case)\n",
        "#           and transfer_type in (1,2,3)\n",
        "#           and contract_address = '0x0000000000000000000000000000000000000000'\n",
        "\n",
        "#           union all\n",
        "\n",
        "#           select DATE(TIMESTAMP_SECONDS(txn_ts)) as block_date,\n",
        "#                 to_address as address,\n",
        "#                 quantity/1e18 as quantity\n",
        "#           from `ethereum.all_transfers`\n",
        "#           where TIMESTAMP_SECONDS(txn_ts) >= TIMESTAMP '{current_year+1}-01-01' and TIMESTAMP_SECONDS(txn_ts) < TIMESTAMP '{current_year+2}-01-01'\n",
        "#           and to_address not in (select address from `ethereum.categories`)   -- exclude cex,dex,contract addresses, burn\n",
        "#           and transfer_type in (1,2,3)\n",
        "#           and contract_address = '0x0000000000000000000000000000000000000000'\n",
        "#         ),\n",
        "\n",
        "#         transfer as (\n",
        "#           select x.block_date,\n",
        "#                 x.address,\n",
        "#                 x.quantity,\n",
        "#                 p.price\n",
        "#           from xfer_raw x\n",
        "#           left join eth_price p on p.block_date = x.block_date\n",
        "#         ),\n",
        "\n",
        "#         step1 as (  -- value (include selling movements)\n",
        "#           select block_date,\n",
        "#                 address,\n",
        "#                 cumulative_balance as amount,\n",
        "#                 cumulative_value as value\n",
        "#           from `analytics_data.eth_sip_balance`\n",
        "\n",
        "#           union all\n",
        "\n",
        "#           select block_date,\n",
        "#                 address,\n",
        "#                 sum(quantity) as amount,\n",
        "#                 sum(quantity*price) as value\n",
        "#           from transfer\n",
        "#           group by block_date,address\n",
        "#           order by block_date\n",
        "#         ),\n",
        "#         step2 as (  -- cumulative\n",
        "#           select block_date,\n",
        "#                 address,\n",
        "#                 sum(amount) OVER (PARTITION BY address ORDER BY block_date ASC ROWS BETWEEN UNBOUNDED PRECEDING AND CURRENT ROW) as cumulative_balance,\n",
        "#                 sum(value) OVER (PARTITION BY address ORDER BY block_date ASC ROWS BETWEEN UNBOUNDED PRECEDING AND CURRENT ROW) as cumulative_value\n",
        "#           from step1\n",
        "#           order by block_date\n",
        "#         ),\n",
        "\n",
        "#         ranked_data as (\n",
        "#           select block_date,\n",
        "#                   address,\n",
        "#                   cumulative_balance,\n",
        "#                   cumulative_value,\n",
        "#                   ROW_NUMBER() OVER (PARTITION BY address ORDER BY block_date DESC) AS RowNum\n",
        "#           from step2\n",
        "#         )\n",
        "\n",
        "#         --> result\n",
        "#         SELECT DATE('{current_year}-12-31') as block_date,  --latest date of balance data\n",
        "#               address,\n",
        "#               cumulative_balance,\n",
        "#               cumulative_value\n",
        "#         FROM ranked_data\n",
        "#         WHERE RowNum = 1;\n",
        "#     '''\n",
        "\n",
        "# # psip\n",
        "# data_cache_query_v2 = f'''\n",
        "#         INSERT INTO `analytics_data.eth_sip_data`(\n",
        "\n",
        "#         with eth_price as (\n",
        "#           select DATE(TIMESTAMP_SECONDS(block_timestamp)) as block_date,\n",
        "#                 price\n",
        "#           from `ethereum.eth_price`\n",
        "#         ),\n",
        "#         daily_supply as (\n",
        "#           select DATE(block_date) as block_date,\n",
        "#                 daily_supply\n",
        "#           from `ethereum.daily_supply`\n",
        "#         ),\n",
        "#         xfer_raw as (\n",
        "#           select DATE(TIMESTAMP_SECONDS(txn_ts)) as block_date,\n",
        "#                 from_address as address,\n",
        "#                 (-1)*(quantity/1e18) as quantity,\n",
        "#           from `ethereum.all_transfers`\n",
        "#           where TIMESTAMP_SECONDS(txn_ts) >= '{current_year+1}-01-01' and TIMESTAMP_SECONDS(txn_ts) < TIMESTAMP '{current_year+2}-01-01'\n",
        "#           and from_address not in (select address from `ethereum.categories`) -- exclude cex,dex,contract addresses, mint (basic case)\n",
        "#           and transfer_type in (1,2,3)\n",
        "#           and contract_address = '0x0000000000000000000000000000000000000000'\n",
        "\n",
        "#           union all\n",
        "\n",
        "#           select DATE(TIMESTAMP_SECONDS(txn_ts)) as block_date,\n",
        "#                 to_address as address,\n",
        "#                 quantity/1e18 as quantity\n",
        "#           from `ethereum.all_transfers`\n",
        "#           where TIMESTAMP_SECONDS(txn_ts) >= '{current_year+1}-01-01' and TIMESTAMP_SECONDS(txn_ts) < TIMESTAMP '{current_year+2}-01-01'\n",
        "#           and to_address not in (select address from `ethereum.categories`)   -- exclude cex,dex,contract addresses, burn\n",
        "#           and transfer_type in (1,2,3)\n",
        "#           and contract_address = '0x0000000000000000000000000000000000000000'\n",
        "#         ),\n",
        "#         transfer as (\n",
        "#           select x.block_date,\n",
        "#                 x.address,\n",
        "#                 x.quantity,\n",
        "#                 p.price\n",
        "#           from xfer_raw x\n",
        "#           left join eth_price p on p.block_date = x.block_date\n",
        "#         ),\n",
        "#         step1 as (    -- value (include selling movements)\n",
        "#           select block_date,\n",
        "#                  address,\n",
        "#                  sum(amount) as amount,\n",
        "#                  sum(value) as value\n",
        "#           from (select DATE('{current_year+1}-01-01') as block_date,  -- insert value of the previous calculation\n",
        "#                           address,\n",
        "#                           cumulative_balance as amount,\n",
        "#                           cumulative_value as value\n",
        "#                     from `analytics_data.eth_sip_balance`\n",
        "\n",
        "#                     union all\n",
        "\n",
        "#                     select block_date,\n",
        "#                           address,\n",
        "#                           sum(quantity) as amount,\n",
        "#                           sum(quantity*price) as value\n",
        "#                     from transfer\n",
        "#                     group by block_date, address\n",
        "#                     order by block_date\n",
        "#                 )\n",
        "#           group by block_date, address\n",
        "#           order by block_date\n",
        "#         ),\n",
        "#         step2 as (  -- cumulative\n",
        "#           select block_date,\n",
        "#                 address,\n",
        "#                 sum(amount) OVER (PARTITION BY address ORDER BY block_date ASC ROWS BETWEEN UNBOUNDED PRECEDING AND CURRENT ROW) as cumulative_balance,\n",
        "#                 sum(value) OVER (PARTITION BY address ORDER BY block_date ASC ROWS BETWEEN UNBOUNDED PRECEDING AND CURRENT ROW) as cumulative_value\n",
        "#           from step1\n",
        "#           order by block_date\n",
        "#         ),\n",
        "\n",
        "#         step3 as (\n",
        "#           select block_date,\n",
        "#                 address,\n",
        "#                 cumulative_balance,\n",
        "#                 case\n",
        "#                   when cumulative_balance > 0 then cumulative_value/cumulative_balance\n",
        "#                   else 0\n",
        "#                 end as avg_acq_price\n",
        "#           from step2\n",
        "#         ),\n",
        "\n",
        "#         missed_date as(\n",
        "#         select address,dates as block_date from\n",
        "#         UNNEST(GENERATE_DATE_ARRAY('{current_year+1}-01-01','{current_year+1}-12-31', INTERVAL 1 DAY)) AS dates cross join (select distinct address from step3)\n",
        "#         ),\n",
        "\n",
        "#         joined as (\n",
        "#         select distinct m.address, m.block_date, cumulative_balance, avg_acq_price\n",
        "#         from  missed_date m\n",
        "#         left join step3 s on m.address = s.address\n",
        "#         and  s.block_date = m.block_date\n",
        "#         ),\n",
        "\n",
        "#         filled_data as\n",
        "#         (\n",
        "#           select * except(cumulative_balance, avg_acq_price),\n",
        "#             ifnull(last_value(cumulative_balance ignore nulls) over(partition by address order by block_date),0) as cumulative_balance,\n",
        "#             ifnull(last_value(avg_acq_price ignore nulls) over(partition by address order by block_date),0) as avg_acq_price\n",
        "#           from joined\n",
        "#         ),\n",
        "\n",
        "#         final_data as (\n",
        "#           select f.block_date,\n",
        "#                 f.address,\n",
        "#                 f.cumulative_balance,\n",
        "#                 f.avg_acq_price,\n",
        "#                 p.price as current_price\n",
        "#           from filled_data f\n",
        "#           left join eth_price p on p.block_date = f.block_date\n",
        "#           order by f.block_date\n",
        "#         ),\n",
        "\n",
        "#         master_final as (\n",
        "#           select block_date,\n",
        "#                 sum(cumulative_balance) as coin_in_profit\n",
        "#           from final_data\n",
        "#           where avg_acq_price < current_price\n",
        "#           and cumulative_balance > 0\n",
        "#           group by block_date\n",
        "#         )\n",
        "\n",
        "#         --> result\n",
        "#         select f.block_date,\n",
        "#               coin_in_profit*100/d.daily_supply as psip,\n",
        "#               p.price\n",
        "#         from master_final f\n",
        "#         left join daily_supply d on d.block_date = f.block_date\n",
        "#         left join eth_price p on p.block_date = f.block_date\n",
        "#         order by block_date asc\n",
        "#         );\n",
        "#     '''"
      ]
    },
    {
      "cell_type": "markdown",
      "metadata": {
        "id": "-ez_HOkH98jI"
      },
      "source": [
        "# **5. EXECUTION**"
      ]
    },
    {
      "cell_type": "markdown",
      "metadata": {
        "id": "ERcepSgqQ0VA"
      },
      "source": [
        "### Initial: end of 2015"
      ]
    },
    {
      "cell_type": "code",
      "execution_count": null,
      "metadata": {
        "id": "7l3TaPZAVKkF"
      },
      "outputs": [],
      "source": [
        "current_year = 2015"
      ]
    },
    {
      "cell_type": "code",
      "execution_count": null,
      "metadata": {
        "colab": {
          "base_uri": "https://localhost:8080/"
        },
        "id": "hZMc99wZYY9a",
        "outputId": "8a580575-bd8f-49f6-982c-748294a8ef52"
      },
      "outputs": [
        {
          "name": "stdout",
          "output_type": "stream",
          "text": [
            "start year: 2015 -> end year: 2015, Dec 31\n",
            "--- 14.596205472946167 seconds ---\n"
          ]
        }
      ],
      "source": [
        "start_time = time.time()\n",
        "\n",
        "# DATA-VIZ cache\n",
        "pd.io.gbq.read_gbq(data_cache_query_init, project_id=PROJECT_ID)\n",
        "\n",
        "# QUERY cache\n",
        "pd.io.gbq.read_gbq(balance_cache_query_init, project_id=PROJECT_ID)\n",
        "\n",
        "print(f'start year: {current_year} -> end year: {current_year}, Dec 31')\n",
        "\n",
        "print(\"--- %s seconds ---\" % (time.time() - start_time))"
      ]
    },
    {
      "cell_type": "markdown",
      "metadata": {
        "id": "9-EjbhngQ3pw"
      },
      "source": [
        "## Upcoming year"
      ]
    },
    {
      "cell_type": "markdown",
      "metadata": {
        "id": "33nZyIgUKZLx"
      },
      "source": [
        "### 2016 - 2017"
      ]
    },
    {
      "cell_type": "code",
      "execution_count": null,
      "metadata": {
        "colab": {
          "base_uri": "https://localhost:8080/"
        },
        "id": "2YrxFt5NPina",
        "outputId": "ed2a5ded-f033-471d-88aa-493e7d10c2e1"
      },
      "outputs": [
        {
          "name": "stdout",
          "output_type": "stream",
          "text": [
            "2016\n"
          ]
        }
      ],
      "source": [
        "current_year+=1\n",
        "print(current_year)\n",
        "balance_cache_query_v2, data_cache_query_v2 = assign_next_year(current_year)"
      ]
    },
    {
      "cell_type": "code",
      "execution_count": null,
      "metadata": {
        "colab": {
          "base_uri": "https://localhost:8080/"
        },
        "id": "iVrIYPYeQ4gd",
        "outputId": "079ea3a5-686e-4fe7-fcbb-cc4b7fd9a7ac"
      },
      "outputs": [
        {
          "name": "stdout",
          "output_type": "stream",
          "text": [
            "start year: 2016, Jan -> end year: 2016, Dec 31\n",
            "--- 95.47132968902588 seconds ---\n"
          ]
        }
      ],
      "source": [
        "start_time = time.time()\n",
        "\n",
        "# DATA-VIZ cache\n",
        "pd.io.gbq.read_gbq(data_cache_query_v2, project_id=PROJECT_ID)\n",
        "\n",
        "# QUERY cache\n",
        "pd.io.gbq.read_gbq(balance_cache_query_v2, project_id=PROJECT_ID)\n",
        "\n",
        "print(f'start year: {current_year}, Jan -> end year: {current_year}, Dec 31')\n",
        "\n",
        "print(\"--- %s seconds ---\" % (time.time() - start_time))"
      ]
    },
    {
      "cell_type": "markdown",
      "metadata": {
        "id": "p6dvCxoeXGPQ"
      },
      "source": [
        "### 2017 - 2018"
      ]
    },
    {
      "cell_type": "code",
      "execution_count": null,
      "metadata": {
        "colab": {
          "base_uri": "https://localhost:8080/"
        },
        "id": "GqSRkH72XG06",
        "outputId": "9acb7b94-7def-44c1-d80e-39549541df85"
      },
      "outputs": [
        {
          "name": "stdout",
          "output_type": "stream",
          "text": [
            "2017\n"
          ]
        }
      ],
      "source": [
        "current_year+=1\n",
        "print(current_year)\n",
        "balance_cache_query_v2, data_cache_query_v2 = assign_next_year(current_year)"
      ]
    },
    {
      "cell_type": "code",
      "execution_count": null,
      "metadata": {
        "colab": {
          "background_save": true
        },
        "id": "lAKPcW2VXNIj",
        "outputId": "64f4cd95-595d-4d06-88de-3b20770626a3"
      },
      "outputs": [
        {
          "name": "stdout",
          "output_type": "stream",
          "text": [
            "start year: 2017, Jan -> end year: 2017, Dec 31\n",
            "--- 1254.9416501522064 seconds ---\n"
          ]
        }
      ],
      "source": [
        "start_time = time.time()\n",
        "\n",
        "# DATA-VIZ cache\n",
        "pd.io.gbq.read_gbq(data_cache_query_v2, project_id=PROJECT_ID)\n",
        "\n",
        "# QUERY cache\n",
        "pd.io.gbq.read_gbq(balance_cache_query_v2, project_id=PROJECT_ID)\n",
        "\n",
        "print(f'start year: {current_year}, Jan -> end year: {current_year}, Dec 31')\n",
        "\n",
        "print(\"--- %s seconds ---\" % (time.time() - start_time))"
      ]
    },
    {
      "cell_type": "markdown",
      "metadata": {
        "id": "J7zQ4P04X56d"
      },
      "source": [
        "### 2018 - 2019"
      ]
    },
    {
      "cell_type": "code",
      "execution_count": null,
      "metadata": {
        "id": "J0WcXFFBX6jB",
        "colab": {
          "base_uri": "https://localhost:8080/"
        },
        "outputId": "fb74c4f0-28d7-4b04-d556-204a80eeb2fb"
      },
      "outputs": [
        {
          "output_type": "stream",
          "name": "stdout",
          "text": [
            "2018\n"
          ]
        }
      ],
      "source": [
        "current_year+=1\n",
        "print(current_year)\n",
        "balance_cache_query_v2, data_cache_query_v2 = assign_next_year(current_year)"
      ]
    },
    {
      "cell_type": "code",
      "execution_count": null,
      "metadata": {
        "id": "GXvhbh_HX7QU"
      },
      "outputs": [],
      "source": [
        "start_time = time.time()\n",
        "\n",
        "# DATA-VIZ cache\n",
        "pd.io.gbq.read_gbq(data_cache_query_v2, project_id=PROJECT_ID)\n",
        "\n",
        "# QUERY cache\n",
        "pd.io.gbq.read_gbq(balance_cache_query_v2, project_id=PROJECT_ID)\n",
        "\n",
        "print(f'start year: {current_year}, Jan -> end year: {current_year}, Dec 31')\n",
        "\n",
        "print(\"--- %s seconds ---\" % (time.time() - start_time))"
      ]
    },
    {
      "cell_type": "markdown",
      "source": [
        "### 2019 - 2020"
      ],
      "metadata": {
        "id": "xmdMTM5zjFHI"
      }
    },
    {
      "cell_type": "code",
      "source": [
        "current_year+=1\n",
        "print(current_year)\n",
        "balance_cache_query_v2, data_cache_query_v2 = assign_next_year(current_year)"
      ],
      "metadata": {
        "colab": {
          "base_uri": "https://localhost:8080/"
        },
        "id": "vu_LkYU4-qWQ",
        "outputId": "c462d267-aa31-415c-a927-870032a26933"
      },
      "execution_count": null,
      "outputs": [
        {
          "output_type": "stream",
          "name": "stdout",
          "text": [
            "2019\n"
          ]
        }
      ]
    },
    {
      "cell_type": "code",
      "source": [
        "start_time = time.time()\n",
        "\n",
        "# DATA-VIZ cache\n",
        "pd.io.gbq.read_gbq(data_cache_query_v2, project_id=PROJECT_ID)\n",
        "\n",
        "# QUERY cache\n",
        "pd.io.gbq.read_gbq(balance_cache_query_v2, project_id=PROJECT_ID)\n",
        "\n",
        "print(f'start year: {current_year}, Jan -> end year: {current_year}, Dec 31')\n",
        "\n",
        "print(\"--- %s seconds ---\" % (time.time() - start_time))"
      ],
      "metadata": {
        "id": "GFv74iJxjHEN"
      },
      "execution_count": null,
      "outputs": []
    },
    {
      "cell_type": "markdown",
      "source": [
        "### 2020 - 2021"
      ],
      "metadata": {
        "id": "33DL3IaNZTha"
      }
    },
    {
      "cell_type": "code",
      "source": [
        "current_year+=1\n",
        "print(current_year)\n",
        "balance_cache_query_v2, data_cache_query_v2 = assign_next_year(current_year)"
      ],
      "metadata": {
        "colab": {
          "base_uri": "https://localhost:8080/"
        },
        "id": "zcpQEKgUg-LC",
        "outputId": "da8e0096-e2b4-4eb5-e7c8-899a8af32771"
      },
      "execution_count": null,
      "outputs": [
        {
          "output_type": "stream",
          "name": "stdout",
          "text": [
            "2020\n"
          ]
        }
      ]
    },
    {
      "cell_type": "code",
      "source": [
        "start_time = time.time()\n",
        "\n",
        "# DATA-VIZ cache\n",
        "pd.io.gbq.read_gbq(data_cache_query_v2, project_id=PROJECT_ID)\n",
        "\n",
        "# QUERY cache\n",
        "pd.io.gbq.read_gbq(balance_cache_query_v2, project_id=PROJECT_ID)\n",
        "\n",
        "print(f'start year: {current_year}, Jan -> end year: {current_year}, Dec 31')\n",
        "\n",
        "print(\"--- %s seconds ---\" % (time.time() - start_time))"
      ],
      "metadata": {
        "id": "rqRHXdb6ZbUO"
      },
      "execution_count": null,
      "outputs": []
    },
    {
      "cell_type": "markdown",
      "source": [
        "### 2021 - 2022"
      ],
      "metadata": {
        "id": "9jLUGhDugzWo"
      }
    },
    {
      "cell_type": "code",
      "source": [
        "current_year+=1\n",
        "print(current_year)\n",
        "balance_cache_query_v2, data_cache_query_v2 = assign_next_year(current_year)"
      ],
      "metadata": {
        "colab": {
          "base_uri": "https://localhost:8080/"
        },
        "id": "GfIqcjAvg0Jv",
        "outputId": "222b38cc-71bb-46fc-aa57-7ad54b07fbfc"
      },
      "execution_count": null,
      "outputs": [
        {
          "output_type": "stream",
          "name": "stdout",
          "text": [
            "2021\n"
          ]
        }
      ]
    },
    {
      "cell_type": "code",
      "source": [
        "start_time = time.time()\n",
        "\n",
        "# DATA-VIZ cache\n",
        "pd.io.gbq.read_gbq(data_cache_query_v2, project_id=PROJECT_ID)\n",
        "\n",
        "# QUERY cache\n",
        "pd.io.gbq.read_gbq(balance_cache_query_v2, project_id=PROJECT_ID)\n",
        "\n",
        "print(f'start year: {current_year}, Jan -> end year: {current_year}, Dec 31')\n",
        "\n",
        "print(\"--- %s seconds ---\" % (time.time() - start_time))"
      ],
      "metadata": {
        "id": "iFojX2U1hCn9"
      },
      "execution_count": null,
      "outputs": []
    },
    {
      "cell_type": "markdown",
      "source": [
        "### 2022 - 2023"
      ],
      "metadata": {
        "id": "ULAYMhRWpYtx"
      }
    },
    {
      "cell_type": "code",
      "source": [
        "current_year+=1\n",
        "print(current_year)\n",
        "balance_cache_query_v2, data_cache_query_v2 = assign_next_year(current_year)"
      ],
      "metadata": {
        "colab": {
          "base_uri": "https://localhost:8080/"
        },
        "id": "-DRfXzXMpakG",
        "outputId": "488ae6d0-7822-4d22-836e-e28052cdbbd5"
      },
      "execution_count": null,
      "outputs": [
        {
          "output_type": "stream",
          "name": "stdout",
          "text": [
            "2022\n"
          ]
        }
      ]
    },
    {
      "cell_type": "code",
      "source": [
        "start_time = time.time()\n",
        "\n",
        "# DATA-VIZ cache\n",
        "pd.io.gbq.read_gbq(data_cache_query_v2, project_id=PROJECT_ID)\n",
        "\n",
        "# QUERY cache\n",
        "pd.io.gbq.read_gbq(balance_cache_query_v2, project_id=PROJECT_ID)\n",
        "\n",
        "print(f'start year: {current_year}, Jan -> end year: {current_year}, Dec 31')\n",
        "\n",
        "print(\"--- %s seconds ---\" % (time.time() - start_time))"
      ],
      "metadata": {
        "id": "pRKe7ANXpd29"
      },
      "execution_count": null,
      "outputs": []
    },
    {
      "cell_type": "markdown",
      "source": [
        "### 2023 - 2024"
      ],
      "metadata": {
        "id": "sJknd5qsvCUz"
      }
    },
    {
      "cell_type": "code",
      "source": [
        "current_year+=1\n",
        "print(current_year)\n",
        "balance_cache_query_v2, data_cache_query_v2 = assign_next_year(current_year)"
      ],
      "metadata": {
        "colab": {
          "base_uri": "https://localhost:8080/"
        },
        "id": "ztx9wEfcvBwF",
        "outputId": "646b3a9e-d229-4d1e-9d15-9c914aeaefd4"
      },
      "execution_count": null,
      "outputs": [
        {
          "output_type": "stream",
          "name": "stdout",
          "text": [
            "2023\n"
          ]
        }
      ]
    },
    {
      "cell_type": "code",
      "source": [
        "start_time = time.time()\n",
        "\n",
        "# DATA-VIZ cache\n",
        "pd.io.gbq.read_gbq(data_cache_query_v2, project_id=PROJECT_ID)\n",
        "\n",
        "# QUERY cache\n",
        "pd.io.gbq.read_gbq(balance_cache_query_v2, project_id=PROJECT_ID)\n",
        "\n",
        "print(f'start year: {current_year}, Jan -> end year: {current_year}, Dec 31')\n",
        "\n",
        "print(\"--- %s seconds ---\" % (time.time() - start_time))"
      ],
      "metadata": {
        "id": "iA-R6VBZvFL9"
      },
      "execution_count": null,
      "outputs": []
    }
  ],
  "metadata": {
    "colab": {
      "toc_visible": true,
      "provenance": [],
      "include_colab_link": true
    },
    "kernelspec": {
      "display_name": "Python 3",
      "name": "python3"
    },
    "language_info": {
      "name": "python"
    }
  },
  "nbformat": 4,
  "nbformat_minor": 0
}